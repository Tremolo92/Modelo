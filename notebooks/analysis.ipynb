{
 "cells": [
  {
   "cell_type": "code",
   "execution_count": null,
   "id": "2a7c2643",
   "metadata": {},
   "outputs": [],
   "source": [
    "# %% [markdown]\n",
    "# # Análisis de Niveles de Obesidad\n",
    "# **Hipótesis:**\n",
    "# 1. El consumo frecuente de alimentos calóricos (FAVC) está correlacionado con mayores niveles de obesidad.\n",
    "# 2. La actividad física regular (FAF) reduce la probabilidad de obesidad.\n",
    "# 3. El monitoreo de calorías (SCC) está asociado con menores niveles de sobrepeso.\n",
    "# 4. El historial familiar de sobrepeso incrementa el riesgo de obesidad."
   ]
  },
  {
   "cell_type": "code",
   "execution_count": null,
   "id": "8f58b918",
   "metadata": {},
   "outputs": [],
   "source": [
    "# %%\n",
    "import numpy as np\n",
    "import pandas as pd\n",
    "import seaborn as sns\n",
    "import matplotlib.pyplot as plt\n",
    "from sklearn.preprocessing import StandardScaler\n",
    "from sklearn.model_selection import GridSearchCV, train_test_split\n",
    "from sklearn.linear_model import LogisticRegression\n",
    "from sklearn.svm import SVC\n",
    "from sklearn.metrics import (accuracy_score, confusion_matrix, \n",
    "                            classification_report, mean_squared_error)\n",
    "from imblearn.over_sampling import SMOTE"
   ]
  },
  {
   "cell_type": "code",
   "execution_count": null,
   "id": "e9d92494",
   "metadata": {},
   "outputs": [],
   "source": [
    "# %% [markdown]\n",
    "# ## Análisis Exploratorio de Datos (EDA)"
   ]
  },
  {
   "cell_type": "code",
   "execution_count": null,
   "id": "39e91ff5",
   "metadata": {},
   "outputs": [],
   "source": [
    "# %%\n",
    "# Cargar datos\n",
    "df = pd.read_csv(\"../data/ObesityDataSet.csv\")\n",
    "\n",
    "# Distribución de clases\n",
    "plt.figure(figsize=(10,6))\n",
    "sns.countplot(data=df, x='NObeyesdad')\n",
    "plt.title('Distribución de Niveles de Obesidad')\n",
    "plt.show()"
   ]
  },
  {
   "cell_type": "code",
   "execution_count": null,
   "id": "4eb93b1e",
   "metadata": {},
   "outputs": [],
   "source": [
    "# %%\n",
    "# Relación entre variables\n",
    "num_cols = ['Age', 'Height', 'Weight', 'FCVC', 'NCP', 'CH2O', 'FAF', 'TUE']\n",
    "sns.pairplot(df[num_cols + ['NObeyesdad']], hue='NObeyesdad')\n",
    "plt.show()"
   ]
  },
  {
   "cell_type": "code",
   "execution_count": null,
   "id": "2dbe47fb",
   "metadata": {},
   "outputs": [],
   "source": [
    "# %%\n",
    "# Codificación de variables categóricas\n",
    "categorical_cols = ['Gender', 'family_history_with_overweight', 'FAVC', \n",
    "                   'CAEC', 'SMOKE', 'SCC', 'CALC', 'MTRANS']\n",
    "df_encoded = pd.get_dummies(df, columns=categorical_cols)\n",
    "\n",
    "# Balanceo de clases con SMOTE\n",
    "X = df_encoded.drop('NObeyesdad', axis=1)\n",
    "y = df_encoded['NObeyesdad']\n",
    "X_res, y_res = SMOTE().fit_resample(X, y)\n",
    "\n",
    "# Normalización\n",
    "scaler = StandardScaler()\n",
    "X_scaled = scaler.fit_transform(X_res)\n",
    "\n",
    "# División de datos\n",
    "X_train, X_test, y_train, y_test = train_test_split(X_scaled, y_res, test_size=0.2, random_state=42)"
   ]
  },
  {
   "cell_type": "code",
   "execution_count": null,
   "id": "e6322d29",
   "metadata": {},
   "outputs": [],
   "source": [
    "# %% [markdown]\n",
    "# ## Entrenamiento de Modelos"
   ]
  },
  {
   "cell_type": "code",
   "execution_count": null,
   "id": "48723bf8",
   "metadata": {},
   "outputs": [],
   "source": [
    "# %%\n",
    "# Configuración de modelos y parámetros\n",
    "models = {\n",
    "    'Logistic Regression': {\n",
    "        'model': LogisticRegression(max_iter=1000),\n",
    "        'params': {'C': [0.1, 1, 10], 'solver': ['liblinear', 'saga']}\n",
    "    },\n",
    "    'SVM': {\n",
    "        'model': SVC(),\n",
    "        'params': {'C': [0.1, 1, 10], 'kernel': ['linear', 'rbf']}\n",
    "    }\n",
    "}\n",
    "\n",
    "# Entrenamiento y evaluación\n",
    "results = {}\n",
    "for name, config in models.items():\n",
    "    grid = GridSearchCV(config['model'], config['params'], cv=5, scoring='accuracy')\n",
    "    grid.fit(X_train, y_train)\n",
    "    \n",
    "    # Predicciones\n",
    "    y_pred = grid.predict(X_test)\n",
    "    \n",
    "    # Métricas (solo las apropiadas para clasificación)\n",
    "    results[name] = {\n",
    "        'best_params': grid.best_params_,\n",
    "        'accuracy': accuracy_score(y_test, y_pred),\n",
    "        'confusion_matrix': confusion_matrix(y_test, y_pred),\n",
    "        'classification_report': classification_report(y_test, y_pred)\n",
    "    }"
   ]
  },
  {
   "cell_type": "code",
   "execution_count": null,
   "id": "f39616fd",
   "metadata": {},
   "outputs": [],
   "source": [
    "# %% [markdown]\n",
    "# ## Resultados y Evaluación"
   ]
  },
  {
   "cell_type": "code",
   "execution_count": null,
   "id": "96a3378d",
   "metadata": {},
   "outputs": [],
   "source": [
    "# %%\n",
    "# Mejor modelo\n",
    "best_model = max(results, key=lambda x: results[x]['accuracy'])\n",
    "print(f\"Mejor modelo: {best_model}\")\n",
    "\n",
    "# Matriz de confusión\n",
    "plt.figure(figsize=(10,7))\n",
    "sns.heatmap(results[best_model]['confusion_matrix'], annot=True, fmt='d')\n",
    "plt.title('Matriz de Confusión')\n",
    "plt.show()"
   ]
  },
  {
   "cell_type": "code",
   "execution_count": null,
   "id": "ea015a3b",
   "metadata": {},
   "outputs": [],
   "source": [
    "# %%\n",
    "# Reporte de métricas\n",
    "print(\"Métricas clave:\")\n",
    "print(f\"Precisión: {results[best_model]['accuracy']:.2f}\")\n",
    "print(\"\\nReporte de clasificación completo:\")\n",
    "print(results[best_model]['classification_report'])"
   ]
  }
 ],
 "metadata": {
  "kernelspec": {
   "display_name": "obesity-env",
   "language": "python",
   "name": "python3"
  },
  "language_info": {
   "codemirror_mode": {
    "name": "ipython",
    "version": 3
   },
   "file_extension": ".py",
   "mimetype": "text/x-python",
   "name": "python",
   "nbconvert_exporter": "python",
   "pygments_lexer": "ipython3",
   "version": "3.13.3"
  }
 },
 "nbformat": 4,
 "nbformat_minor": 5
}
